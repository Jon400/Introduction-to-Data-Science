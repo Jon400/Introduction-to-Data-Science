{
 "cells": [
  {
   "cell_type": "markdown",
   "metadata": {},
   "source": [
    "Q1: a)\n",
    "\n",
    "Given to us:   \n",
    "P(male) = 0.5   \n",
    "P(unidentical twins) = 1/125  \n",
    "P(identical twins) = 1/300 \n",
    "\n",
    "What is the probability that Elvis is identical twin?      \n",
    "P(twins) = P(twins/unidentical twins)*P(unidentical twins) +  P(twins/identical twins)*P(identical twins) =     \n",
    "1 * 1/125 + 1*1/300 = 17/1500\n",
    "\n",
    "According to bayes law:   \n",
    "P(identical twins/twins) = (P(twins/identical twins) * P(identical twins)) / p(twins) = \n",
    "(1 * 1/300) / (17/1500) = 5/17\n",
    "\n",
    "b)\n",
    "\n",
    "The probability of choosing each one of the bowls is:\n",
    "P(Bowl 1) = 0.5\n",
    "\n",
    "P(Chocolate/Bowl 1) = 30/40 = 0.75\n",
    "\n",
    "P(Chocolate/Bowl 2) = 0.5\n",
    "\n",
    "The probability of randomly choosing chocolate, according to the formula of conditional probability, is:\n",
    "P(Chocolate) = P(Chocolate/Bowl 1) * P(Bowl 1) +  P(Chocolate/Bowl 2) * P(Bowl 2) = 0.75 * 0.5 + 0.5 * 0.5 = 5/8\n",
    "\n",
    "According Bayes law: \n",
    "P(Bowl 1/Chocolate) = (P(Chocolate/Bowl 1) * P(Bowl 1)) / P(Chocolate) = (0.75 * 0.5) / (5/8) = 3/5\n",
    "\n"
   ]
  },
  {
   "cell_type": "markdown",
   "metadata": {},
   "source": [
    "Q2:   \n",
    "P(1994) = 0.5   P(1996) = 0.5\n",
    "\n",
    "P(Yellow/1994) = 0.2\n",
    "P(Yellow/1996) = 0.14\n",
    "P(Green/1994) = 0.1\n",
    "P(Green/1996) = 0.2\n",
    "\n",
    "P(Yellow) = P(Yellow/1994) * P(1994) + P(Yellow/1996) * P(1996) = 0.2 * 0.5 + 0.14 * 0.5 = 0.17\n",
    "P(Green) = P(Green/1994) * P(1994) + P(Green/1996) * P(1996) = 0.1 * 0.5 + 0.2 * 0.5 = 0.15\n",
    "\n",
    "According conditional probability:\n",
    "P(1994) = P(1994/Yellow) * P(Yellow) + P(1994/Green) * P(Green) + P(1994/Brown) * P(Brown) + \n",
    "P(1994/Red) * P(Red) + P(1994/Orange) * P(Orange) = ?\n",
    "P(Orange) = P(Brown) =  P(Red) = 0\n",
    "Because we know that we got green and yellow candies\n",
    "P(1994) = P(1994/Yellow) * P(Yellow) + P(1994/Green) * P(Green)\n",
    "\n",
    "P(1996 () Yellow) = P(1996) * P(Yellow)\n",
    "P(Yellow/Green) = \n",
    "\n",
    "P(1994/Yellow) = (P(Yellow/1994) * P(1994)) / P(Yellow) = (0.2 * 0.5) / (0.17) = 10/17\n",
    "P(1996/Green) = (P(Green/1996) * P(1996)) / P(Green) = (0.1 * 0.2) / (0.15) = 10/15"
   ]
  },
  {
   "cell_type": "markdown",
   "metadata": {},
   "source": [
    "Q3:\n",
    "a)   \n",
    "P(Infected) = 1/10000    \n",
    "P(Positive/Infected) = 1   \n",
    "P(Positive/Healthy) = 0.01    \n",
    "P(Positive) = P(Positive/Infected) * P(Infected) + P(Positive/Healthy) * P(Healthy) = 1 * 1/10000 + 0.01 * (1 - 1/10000)   \n",
    "= 0.010099    \n",
    "P(Infected/Positive) = (P(Positive/Infected) * P(Infected)) / P(Positive) = (1 * 1/10000) / 0.010099 = 0.0099    \n",
    "    \n",
    "b) \n",
    "P(Infected) = 1/200 \n",
    "P(Positive/Infected) = 1   \n",
    "P(Positive/Healthy) = 0.01\n",
    "P(Positive) = P(Positive/Infected) * P(Infected) + P(Positive/Healthy) * P(Healthy) = 1 * 1/200 + 0.01 * (1 - 1/200)   \n",
    "= 0.01495\n",
    "P(Infected/Positive) = (P(Positive/Infected) * P(Infected)) / P(Positive) = (1 * 1/200) / 0.01495 = 100/299 = 1/3"
   ]
  },
  {
   "cell_type": "markdown",
   "metadata": {},
   "source": [
    "Random Variables"
   ]
  },
  {
   "cell_type": "markdown",
   "metadata": {},
   "source": [
    "Q1:\n",
    "    \n",
    "P(3) = 1/18  \n",
    "P(6) = 5/36  \n",
    "P(9) = 1/9  \n",
    "P(12) = 1/36  \n",
    "P(divisible by 3) = P(3) + P(6) + P(9) + P(12) = 1/3  \n",
    "P(undivisible by 3) = 1 - 1/3 = 2/3  \n",
    "\n",
    "E(x) = 6 * P(divisible by 3) - 3 * P(undivisible by 3) = 6 * 1/3 - 3 * 2/3 = 0  \n",
    "\n",
    "The Roi's expected value in each game is 0$.  "
   ]
  },
  {
   "cell_type": "markdown",
   "metadata": {},
   "source": [
    "Q2:\n",
    "    \n",
    "p(11) = 1/5   \n",
    "p(10) = 4/25   \n",
    "p(9) = 3/25  \n",
    "P(8) = 2/25  \n",
    "P(7) = 1/25  \n",
    "P(less than 12) = P(11) + P(10) + P(9) + P(8) + P(7) = 3/5  \n",
    "P(12) = 4/25  \n",
    "p(more than 12) = 1 - 4/25 - 3/5 = 6/25  \n",
    "E(x) = P(more than 12) * 5 + 0 * P(12) - 6 * p(less than 12) =5 * 6/25 + 0 - 6 * 3/5 = -2.4 \n",
    "\n",
    "Alex's expected value of playing Marker Mixup is -2.4$"
   ]
  },
  {
   "cell_type": "markdown",
   "metadata": {},
   "source": [
    "Q3:    \n",
    "\n",
    "P(Male) = 0.4  \n",
    "Total = 8  \n",
    "\n",
    "According to binomial distribution:    \n",
    "Mean = ∑xP(x) = E(x) = Total * P(Male)  \n",
    "Mean = Total * P(Male) = 0.4 * 8 = 3.2  \n",
    "\n",
    "The variance is:   \n",
    "var(x) = ∑(x−Mean)^2 * P(x) = E(x^2) - (E(x))^2 =  Mean * (1 - P(Male)) = 1.92   \n",
    "\n",
    "Standard deviation(σ):   \n",
    "σ = √var(x) = 1.4     "
   ]
  },
  {
   "cell_type": "markdown",
   "metadata": {},
   "source": [
    "Q4:  \n",
    "The pdf of normal distribution is:  \n",
    " \n",
    "${\\displaystyle f(x)={\\frac {1}{\\sigma {\\sqrt {2\\pi }}}}e^{-{\\frac {1}{2}}\\left({\\frac {x-\\mu }{\\sigma }}\\right)^{2}}}$\n",
    "\n",
    "The given information is:    \n",
    "μ(the mean of normal distribution) = 26000             \n",
    "σ = 2000  \n",
    "accordind to 68–95–99.7 rule:       \n",
    "$\\begin{aligned}\\Pr(\\mu -1\\sigma \\leq X\\leq \\mu +1\\sigma )&\\approx 0.6827\\\\\\Pr(\\mu -2\\sigma \\leq X\\leq \\mu +2\\sigma )&\\approx 0.9545\\\\\\Pr(\\mu -3\\sigma \\leq X\\leq \\mu +3\\sigma )&\\approx 0.9973\\end{aligned}$   \n",
    "Because the pdf of normal distribution is symetric:    \n",
    "Pr(x =< μ + 2σ) = 0.9545 /2 = 0.47725   \n",
    "P(26 =< X =< 30) = 0.47725"
   ]
  },
  {
   "cell_type": "markdown",
   "metadata": {},
   "source": [
    "Q5:\n",
    "      \n",
    "The graph in the question describes PDF:  \n",
    "Probability density function describes the density of continous random variables of the given sample in the sample space.   \n",
    "The probabilty of X variable falls in the interval [a, b] is:  \n",
    "\n",
    "${\\displaystyle f_{X}}$ - The PDF    \n",
    "$\\Pr[a\\leq X\\leq b]=\\int _{a}^{b}f_{X}(x)\\,dx$    \n",
    "\n",
    "P(3 <= X <= 5) = $\\int _{3}^{5}f_{X}(x)\\,dx$ = ((5-3)*0.4)/2 = 0.4  \n",
    "P(3) is negligible\n",
    "\n",
    "P(X > 3) = P(3 <= X <= 5) - P(3) = 0.4"
   ]
  },
  {
   "cell_type": "markdown",
   "metadata": {},
   "source": [
    "Q6:\n",
    "    \n",
    "P(have children) = 0.6    \n",
    "P(not have children) = 1 - P(have children) = 0.4     \n",
    "\n",
    "According to the binomial distribution formula:   \n",
    "${\\displaystyle P\\left(X=k\\right)={n \\choose k}p^{k}\\left(1-p\\right)^{n-k}}$   \n",
    "P(3 have children and one not have children) = ${\\displaystyle {\\binom {4}{3}}}$ * P(have children)^3 * P(not have children)= 4 * 0.6^3 * 0.4 = 0.3456"
   ]
  },
  {
   "cell_type": "markdown",
   "metadata": {},
   "source": [
    "Q7:\n",
    "  \n",
    "E(x) = -10 * P(-10) -5 * P(-5) + 0 * P(0) + 5 * P(5) + 10 * P(10) = -10*0.1 - 5*0.35 + 5*0.35 + 10*0.1 = 0    \n",
    "The expected value of X is 0.   "
   ]
  },
  {
   "cell_type": "code",
   "execution_count": null,
   "metadata": {},
   "outputs": [],
   "source": []
  }
 ],
 "metadata": {
  "kernelspec": {
   "display_name": "Python 3",
   "language": "python",
   "name": "python3"
  },
  "language_info": {
   "codemirror_mode": {
    "name": "ipython",
    "version": 3
   },
   "file_extension": ".py",
   "mimetype": "text/x-python",
   "name": "python",
   "nbconvert_exporter": "python",
   "pygments_lexer": "ipython3",
   "version": "3.8.3"
  }
 },
 "nbformat": 4,
 "nbformat_minor": 4
}
